{
 "cells": [
  {
   "cell_type": "code",
   "execution_count": 2,
   "id": "907273bb-7a4e-4eec-912f-d1831cfeaff9",
   "metadata": {
    "tags": []
   },
   "outputs": [
    {
     "name": "stdout",
     "output_type": "stream",
     "text": [
      "Using matplotlib backend: tkagg\n",
      "Lambda Laser : (m)     : 1.5500000000000002e-06\n",
      "FrLaser : (Hz)         : 1.935484e+14\n",
      "Lambda Reference : (m) : 1.5500000000000002e-06\n",
      "FrReference : (Hz)     : 1.935484e+14\n",
      "PDVFactor (m)          : 7.750000e-07\n",
      "Chain Parameters **************************\n",
      "Shift : (Hz) : 9.000000e+08\n",
      "ChainResponse: (Hz) : 1.000000e+09\n",
      "TargetVelocity: (m/s) : 3.500000e+02\n",
      "Design*****\n",
      "VPivot (m/s) : 697.5000000000001\n",
      "MaxVelocityForChainResponse (VP=0) (m/s) : 775.0000000000001\n",
      "TargetVelocity corres. Freq No shift: (GHz) : 4.516129e-01\n",
      "TargetVelocity corres. with Freq shift: (GHz) : 4.483871e-01\n"
     ]
    }
   ],
   "source": [
    "%run PDVExtractSignalAndAnalysis.ipynb \n",
    "\n",
    "LambdaLaser=1550 #nm\n",
    "LambdaReference=1550 #nm\n",
    "#SI\n",
    "LambdaLaser=LambdaLaser*1e-9\n",
    "FrLaser= C/LambdaLaser\n",
    "LambdaReference=LambdaReference*1e-9\n",
    "FrReference= C/LambdaReference\n",
    "print(\"Lambda Laser : (m)     :\",f\"{LambdaLaser}\")\n",
    "print(\"FrLaser : (Hz)         :\",f\"{FrLaser:e}\")\n",
    "print(\"Lambda Reference : (m) :\",f\"{LambdaReference}\")\n",
    "print(\"FrReference : (Hz)     :\",f\"{FrReference:e}\")\n",
    "PDVFactor=LambdaLaser/2\n",
    "print(\"PDVFactor (m)          :\",f\"{PDVFactor:e}\")\n",
    "\n",
    "#PDVDesign\n",
    "PDVShift=0.9#GHz\n",
    "ChainResponse=1#Ghz\n",
    "TargetVelocity=350 #m/s\n",
    "VPivot = PDVDesign(LambdaLaser,PDVShift,ChainResponse,TargetVelocity)"
   ]
  },
  {
   "cell_type": "code",
   "execution_count": 1,
   "id": "1ac8bbb9-1986-4ddd-a377-499ccaeb9942",
   "metadata": {
    "tags": []
   },
   "outputs": [
    {
     "name": "stdout",
     "output_type": "stream",
     "text": [
      "Using matplotlib backend: module://matplotlib_inline.backend_inline\n",
      "##Goto directory ShotNUmber\n",
      "Ask WorkDirectory :  ShotTest\n",
      "Current Directory before change :  /home/lberthe/CloudCnrs/MySoftware/MyTools/PDVTools\n",
      "Current Directory :  /home/lberthe/CloudCnrs/MySoftware/MyTools/PDVTools/ShotTest\n",
      "## Trc file extraction\n",
      "Save Tension(Time) .csv\n",
      "Base Time :  500_ns/div\n",
      "Number of points : 50002\n",
      "## Start analysis#####\n",
      "Reminder parameter\n",
      "Shot Number        :  ShotTest\n",
      "FName :            :  ShotTest\n",
      "ChainResponse (Hz) :  1000000000.0  Max Corresponding Velocity  (m/s) :  775.0000000000001\n",
      "Shift (Hz)         :  -1000000000.0  Max Corresponding Velocity (m/s) :  -775.0000000000001\n",
      "PDVFactor m/s/Hz   :  7.750000000000001e-07\n",
      "## Data Loading From .csv with , as separator ###############\n",
      "Suppressed lines: 1\n",
      "ShotTest.csv\n",
      "Number of points from DataLoad: 50000\n",
      "## PDVSetFrAcquisition calculation\n",
      "FAquisition (GS/s) : 1.000000e+01\n",
      "## FTT signal calculation\n",
      "Number of points:  50000\n",
      "## STFT signal calculation\n",
      "## Velocity signal calculation\n",
      "## FrequenceDominant search #############\n",
      "N frequences :  1\n",
      "1: 0.0857 GHz\n",
      "BaseLine\n",
      "##Extract Velocity profile manually\n",
      "Mouse left = +1 point  - Mouse right = -1 last point - Mouse middle = save&exit\n",
      "## Draw and save Velocity profile extracted\n",
      "Report pdf ShotTest ShotTest\n"
     ]
    }
   ],
   "source": [
    "import os\n",
    "%run PDVExtractSignalAndAnalysis.ipynb\n",
    "\n",
    "#Lecture file from .trc\n",
    "#BaseDirectory = ''\n",
    "#ChangeDirectory\n",
    "\n",
    "LambdaLaser=1550 #nm\n",
    "LambdaLaser=LambdaLaser*1e-9\n",
    "PDVFactor=LambdaLaser/2\n",
    "\n",
    "FName = \"ShotTest\"\n",
    "ShotNumber='ShotTest' #Directory Shot\n",
    "nperseg=300\n",
    "PDVShift=-1#GHz\n",
    "ChainResponse=1 #Ghz\n",
    "nperseg =350# Taille de la fenêtre d'analyse\n",
    "\n",
    "##Directory SHot\n",
    "print (\"##Goto directory ShotNUmber\")\n",
    "WorkDirectory=ShotNumber\n",
    "print('Ask WorkDirectory : ',WorkDirectory)\n",
    "print('Current Directory before change : ', os.getcwd())\n",
    "os.chdir(WorkDirectory)\n",
    "print('Current Directory : ', os.getcwd())\n",
    "\n",
    "\n",
    "#Extraction from .trc generate .csv datas set\n",
    "trc=Trc()\n",
    "trc.open(FName)\n",
    "print(\"Base Time : \", trc.ScopeStatus[\"TIMEBASE\"])\n",
    "print (\"Number of points :\",trc.ScopeStatus[\"WAVE_ARRAY_COUNT\"])\n",
    "\n",
    "ShotNumber=PDV(ChainResponse,PDVShift,PDVFactor,FName,ShotNumber)\n",
    "ShotNumber.DataLoad(1)\n",
    "ShotNumber.PDVSetFrAcquisition()\n",
    "\n",
    "#### Basic analysis > in report\n",
    "\n",
    "#FFT                 \n",
    "ShotNumber.SetPDVFFT()\n",
    "#ShotNumber.GrahPDVSignal()\n",
    "# Calculate STFT\n",
    "ShotNumber.SetSTFTPDV(nperseg)\n",
    "ShotNumber.SetVelocity()\n",
    "#ShotNumber.GraphSTFTPDV()\n",
    "ShotNumber.GraphSpectrogram()\n",
    "#Search Base Line\n",
    "ShotNumber.FrequenceDominant(1, ShotNumber.Time_stft,ShotNumber.FePDV,ShotNumber.PDVSpectrogram)\n",
    "# manual extraction of velocity\n",
    "ShotNumber.ExtractVelocityProfile(ShotNumber.Time_stft,ShotNumber.Velocity,ShotNumber.PDVSpectrogram)\n",
    "ShotNumber.ExtractVelocityProfileGraphSave()\n",
    "ShotNumber.PDVReport()\n",
    "\n"
   ]
  },
  {
   "cell_type": "code",
   "execution_count": 6,
   "id": "b4318097-be86-4205-9ed3-7fc91e43a533",
   "metadata": {},
   "outputs": [
    {
     "name": "stdout",
     "output_type": "stream",
     "text": [
      "## BaseLine Supression************\n",
      "FreqBaseLine_min (GHz) : 0.0\n",
      "FreqBaseLine_max (GHz) : 0.18000000000000002\n",
      "## BaseLine Selection************\n",
      "FreqSelected_min (GHz) : 0.0\n",
      "FreqSelected_max (GHz) : 0.6000000000000001\n",
      "TimeSelected_min (us) : 0.8999999999999999\n",
      "TimeSelected_max (us) : 1.1\n"
     ]
    }
   ],
   "source": [
    "####### Deeper analysis. \n",
    "ShotNumber.BaseLineSupress(0.0*1e9, 0.18e9)\n",
    "ShotNumber.GraphBaseLine()\n",
    "ShotNumber.PDVSelectedSignal(0,0.6e9,0.9*1e-6,1.1*1e-6,ShotNumber.Time_stft,ShotNumber.FePDV,ShotNumber.PDVSpectrogramBaseLine)\n",
    "#ShotNumber.PDVSelectedSignal(0,0.6e9,0.9*1e-6,1.2*1e-6,ShotNumber.Time_stft,ShotNumber.FePDV,ShotNumber.PDVSpectrogram)\n",
    "ShotNumber.GraphPDVSelected()\n",
    "#ShotNumber.FrequenceDominant(5, ShotNumber.Time_stftSelected, ShotNumber.FePDVSelected, ShotNumber.PDVSpectrogramSelected)\n",
    "#ShotNumber.ExtractVelocityProfile(ShotNumber.Time_stftSelected, ShotNumber.FePDVSelected*ShotNumber.PDVFactor, ShotNumber.PDVSpectrogramSelected)\n",
    "#ShotNumber.ExtractVelocityProfileGraphSave()"
   ]
  },
  {
   "cell_type": "code",
   "execution_count": null,
   "id": "dd0fba48-9774-440c-ba64-a659e12de6ec",
   "metadata": {},
   "outputs": [],
   "source": []
  }
 ],
 "metadata": {
  "kernelspec": {
   "display_name": "Python 3 (ipykernel)",
   "language": "python",
   "name": "python3"
  },
  "language_info": {
   "codemirror_mode": {
    "name": "ipython",
    "version": 3
   },
   "file_extension": ".py",
   "mimetype": "text/x-python",
   "name": "python",
   "nbconvert_exporter": "python",
   "pygments_lexer": "ipython3",
   "version": "3.12.7"
  },
  "widgets": {
   "application/vnd.jupyter.widget-state+json": {
    "state": {},
    "version_major": 2,
    "version_minor": 0
   }
  }
 },
 "nbformat": 4,
 "nbformat_minor": 5
}
